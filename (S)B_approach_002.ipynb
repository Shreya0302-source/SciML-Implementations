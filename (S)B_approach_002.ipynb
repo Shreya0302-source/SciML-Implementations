{
  "metadata": {
    "kernelspec": {
      "language": "python",
      "display_name": "Python 3",
      "name": "python3"
    },
    "language_info": {
      "name": "python",
      "version": "3.10.12",
      "mimetype": "text/x-python",
      "codemirror_mode": {
        "name": "ipython",
        "version": 3
      },
      "pygments_lexer": "ipython3",
      "nbconvert_exporter": "python",
      "file_extension": ".py"
    },
    "kaggle": {
      "accelerator": "none",
      "dataSources": [
        {
          "sourceId": 93864,
          "databundleVersionId": 11172267,
          "sourceType": "competition"
        },
        {
          "sourceId": 10845578,
          "sourceType": "datasetVersion",
          "datasetId": 6735650
        }
      ],
      "dockerImageVersionId": 30918,
      "isInternetEnabled": false,
      "language": "python",
      "sourceType": "notebook",
      "isGpuEnabled": false
    },
    "colab": {
      "name": "(S)B-approach-#002",
      "provenance": [],
      "include_colab_link": true
    }
  },
  "nbformat_minor": 0,
  "nbformat": 4,
  "cells": [
    {
      "cell_type": "markdown",
      "metadata": {
        "id": "view-in-github",
        "colab_type": "text"
      },
      "source": [
        "<a href=\"https://colab.research.google.com/github/Shreya0302-source/SciML-Implementations/blob/main/(S)B_approach_002.ipynb\" target=\"_parent\"><img src=\"https://colab.research.google.com/assets/colab-badge.svg\" alt=\"Open In Colab\"/></a>"
      ]
    },
    {
      "source": [
        "# IMPORTANT: SOME KAGGLE DATA SOURCES ARE PRIVATE\n",
        "# RUN THIS CELL IN ORDER TO IMPORT YOUR KAGGLE DATA SOURCES.\n",
        "import kagglehub\n",
        "kagglehub.login()\n"
      ],
      "metadata": {
        "id": "KXAmeIDuk-j3"
      },
      "cell_type": "code",
      "outputs": [],
      "execution_count": null
    },
    {
      "source": [
        "# IMPORTANT: RUN THIS CELL IN ORDER TO IMPORT YOUR KAGGLE DATA SOURCES,\n",
        "# THEN FEEL FREE TO DELETE THIS CELL.\n",
        "# NOTE: THIS NOTEBOOK ENVIRONMENT DIFFERS FROM KAGGLE'S PYTHON\n",
        "# ENVIRONMENT SO THERE MAY BE MISSING LIBRARIES USED BY YOUR\n",
        "# NOTEBOOK.\n",
        "\n",
        "ziq_sciml_challenge_path = kagglehub.competition_download('ziq-sciml-challenge')\n",
        "shreyajoshi03_thermal_management_test_dataset_path = kagglehub.dataset_download('shreyajoshi03/thermal-management-test-dataset')\n",
        "\n",
        "print('Data source import complete.')\n"
      ],
      "metadata": {
        "id": "aF666wKOk-j4"
      },
      "cell_type": "code",
      "outputs": [],
      "execution_count": null
    },
    {
      "cell_type": "code",
      "source": [
        "import torch\n",
        "import torch.nn as nn\n",
        "import pandas as pd\n",
        "import numpy as np"
      ],
      "metadata": {
        "_uuid": "4a9c4103-82f7-4244-a829-d90ffcd1e33f",
        "_cell_guid": "32b6fbf8-06f2-4b51-8b56-18c0967e9262",
        "trusted": true,
        "jupyter": {
          "outputs_hidden": false
        },
        "id": "z8V7GnY0k-j4"
      },
      "outputs": [],
      "execution_count": null
    },
    {
      "cell_type": "code",
      "source": [
        "torch.manual_seed(42)"
      ],
      "metadata": {
        "trusted": true,
        "id": "pHzpmCPtk-j5"
      },
      "outputs": [],
      "execution_count": null
    },
    {
      "cell_type": "code",
      "source": [
        "# Neural Network\n",
        "class PINN(nn.Module):\n",
        "    def __init__(self):\n",
        "        super(PINN, self).__init__()\n",
        "        self.net = nn.Sequential(\n",
        "            nn.Linear(2, 256), nn.Tanh(),\n",
        "            *[nn.Linear(256, 256), nn.Tanh()] * 7,\n",
        "            nn.Linear(256, 1)\n",
        "        )\n",
        "    def forward(self, x):\n",
        "        return self.net(x)"
      ],
      "metadata": {
        "_uuid": "9c5ffb21-046a-4614-9ae1-d4557f1d7af0",
        "_cell_guid": "40b54343-b60a-4103-b01d-eecde1562cd1",
        "trusted": true,
        "jupyter": {
          "outputs_hidden": false
        },
        "id": "Fj_lug6Ak-j5"
      },
      "outputs": [],
      "execution_count": null
    },
    {
      "cell_type": "code",
      "source": [
        "# Heat generation function f(x, y)\n",
        "def f_xy(x, y, epsilon=1e-4):\n",
        "    term1 = 2 * epsilon * (-x + torch.exp(2 * (x - 1) / epsilon))\n",
        "    term2 = x * y**2 + 6 * x * y\n",
        "    term3 = -x * torch.exp(3 * (y - 1) / epsilon)\n",
        "    term4 = -y**2 * torch.exp(2 * (x - 1) / epsilon)\n",
        "    term5 = 2 * y**2 - 6 * y * torch.exp(2 * (x - 1) / epsilon)\n",
        "    term6 = -2 * torch.exp(3 * (y - 1) / epsilon)\n",
        "    term7 = torch.exp(2 * x + 3 * y - 5 * epsilon)\n",
        "    return term1 + term2 + term3 + term4 + term5 + term6 + term7"
      ],
      "metadata": {
        "trusted": true,
        "id": "ADsJ7FUDk-j5"
      },
      "outputs": [],
      "execution_count": null
    },
    {
      "cell_type": "code",
      "source": [
        "# PDE residual (Corrected version)\n",
        "def pde_loss(model, x, epsilon=1e-4, bx=2.0, by=3.0):\n",
        "    x.requires_grad_(True)\n",
        "    u = model(x)\n",
        "    u_grad = torch.autograd.grad(u, x, grad_outputs=torch.ones_like(u), create_graph=True)[0]\n",
        "    u_x, u_y = u_grad[:, 0], u_grad[:, 1]\n",
        "    u_xx = torch.autograd.grad(u_x, x, grad_outputs=torch.ones_like(u_x), create_graph=True)[0][:, 0]\n",
        "    u_yy = torch.autograd.grad(u_y, x, grad_outputs=torch.ones_like(u_y), create_graph=True)[0][:, 1]\n",
        "    f = f_xy(x[:, 0], x[:, 1], epsilon)  # Properly call f_xy\n",
        "    residual = -epsilon * (u_xx + u_yy) + bx * u_x + by * u_y - f\n",
        "    return torch.mean(residual**2), residual"
      ],
      "metadata": {
        "_uuid": "3ba9bee9-4241-4450-a417-5972b4a95342",
        "_cell_guid": "566341ec-b856-484c-806c-0103fcc3e33b",
        "trusted": true,
        "jupyter": {
          "outputs_hidden": false
        },
        "id": "6oakAIqbk-j5"
      },
      "outputs": [],
      "execution_count": null
    },
    {
      "cell_type": "code",
      "source": [
        "# Boundary loss\n",
        "def bc_loss(model, x_bc):\n",
        "    u_bc = model(x_bc)\n",
        "    return torch.mean(u_bc**2)"
      ],
      "metadata": {
        "_uuid": "577822e1-f4d1-4c89-a73a-ebd87fc7a3d5",
        "_cell_guid": "d7b96b7f-8678-4a79-af78-709e78643cb0",
        "trusted": true,
        "jupyter": {
          "outputs_hidden": false
        },
        "id": "rR41K_TJk-j5"
      },
      "outputs": [],
      "execution_count": null
    },
    {
      "cell_type": "code",
      "source": [
        "# Generate training points\n",
        "def generate_points(n_pde=20000, n_bc=800):\n",
        "    # Collocation points inside domain\n",
        "    x_pde = torch.rand(n_pde, 2)\n",
        "\n",
        "    # Boundary points (200 per side)\n",
        "    x_bc = torch.cat([\n",
        "        torch.stack([torch.linspace(0, 1, 200), torch.zeros(200)], dim=1),  # y = 0\n",
        "        torch.stack([torch.linspace(0, 1, 200), torch.ones(200)], dim=1),   # y = 1\n",
        "        torch.stack([torch.zeros(200), torch.linspace(0, 1, 200)], dim=1),  # x = 0\n",
        "        torch.stack([torch.ones(200), torch.linspace(0, 1, 200)], dim=1)    # x = 1\n",
        "    ])\n",
        "    return x_pde, x_bc"
      ],
      "metadata": {
        "_uuid": "8050e79d-c898-4e64-8ac2-0cceb38769a4",
        "_cell_guid": "5d146fc5-772d-405c-855e-9414f7259db1",
        "trusted": true,
        "jupyter": {
          "outputs_hidden": false
        },
        "id": "Xa2gmjiyk-j5"
      },
      "outputs": [],
      "execution_count": null
    },
    {
      "cell_type": "code",
      "source": [
        "# Adaptive sampling\n",
        "def adaptive_sample(model, x_pde, n_keep=5000, n_add=5000):\n",
        "    _, residuals = pde_loss(model, x_pde)\n",
        "    residuals = residuals.abs().detach()\n",
        "    _, indices = torch.topk(residuals, n_keep)\n",
        "    x_keep = x_pde[indices]\n",
        "    x_new = torch.rand(n_add, 2)\n",
        "    return torch.cat([x_keep, x_new])"
      ],
      "metadata": {
        "trusted": true,
        "id": "Ri1m9Nmsk-j6"
      },
      "outputs": [],
      "execution_count": null
    },
    {
      "cell_type": "code",
      "source": [
        "# Training function\n",
        "def train_pinn(model, epochs_adam=20000, epochs_lbfgs=2000):\n",
        "    x_pde, x_bc = generate_points()\n",
        "    optimizer_adam = torch.optim.Adam(model.parameters(), lr=0.001)\n",
        "    scheduler = torch.optim.lr_scheduler.StepLR(optimizer_adam, step_size=5000, gamma=0.1)\n",
        "\n",
        "    print(\"Training with Adam...\")\n",
        "    for epoch in range(epochs_adam):\n",
        "        optimizer_adam.zero_grad()\n",
        "        loss_pde, _ = pde_loss(model, x_pde)\n",
        "        loss_bc = bc_loss(model, x_bc)\n",
        "        loss = loss_pde + 10.0 * loss_bc\n",
        "        loss.backward()\n",
        "        optimizer_adam.step()\n",
        "        scheduler.step()\n",
        "\n",
        "        if (epoch + 1) % 1000 == 0:\n",
        "            print(f\"Adam Epoch {epoch + 1}/{epochs_adam}, Loss: {loss.item():.6f}, \"\n",
        "                  f\"PDE: {loss_pde.item():.6f}, BC: {loss_bc.item():.6f}\")\n",
        "            x_pde = adaptive_sample(model, x_pde)\n",
        "\n",
        "        if epoch > 10000 and loss.item() < 0.05:\n",
        "            break\n",
        "\n",
        "    optimizer_lbfgs = torch.optim.LBFGS(model.parameters(), lr=0.8, max_iter=50, history_size=100)\n",
        "\n",
        "    def closure():\n",
        "        optimizer_lbfgs.zero_grad()\n",
        "        loss_pde, _ = pde_loss(model, x_pde)\n",
        "        loss_bc = bc_loss(model, x_bc)\n",
        "        loss = loss_pde + 10.0 * loss_bc\n",
        "        loss.backward()\n",
        "        return loss\n",
        "\n",
        "    print(\"\\nSwitching to L-BFGS...\")\n",
        "    for epoch in range(epochs_lbfgs // 50):\n",
        "        loss = optimizer_lbfgs.step(closure)\n",
        "        if (epoch + 1) % 25 == 0:\n",
        "            print(f\"L-BFGS Epoch {(epoch + 1) * 50}/{epochs_lbfgs}, Loss: {loss.item():.6f}\")"
      ],
      "metadata": {
        "trusted": true,
        "id": "wey_mZtbk-j6"
      },
      "outputs": [],
      "execution_count": null
    },
    {
      "cell_type": "code",
      "source": [
        "# Plotting\n",
        "def plot_solution(model):\n",
        "    x = torch.linspace(0, 1, 100)\n",
        "    y = torch.linspace(0, 1, 100)\n",
        "    X, Y = torch.meshgrid(x, y, indexing='ij')\n",
        "    XY = torch.stack([X.flatten(), Y.flatten()], dim=1)\n",
        "\n",
        "    with torch.no_grad():\n",
        "        U = model(XY).reshape(100, 100).numpy()\n",
        "\n",
        "    plt.figure(figsize=(8, 6))\n",
        "    plt.contourf(X.numpy(), Y.numpy(), U, levels=50, cmap='jet')\n",
        "    plt.colorbar(label='Temperature (u)')\n",
        "    plt.title('PINN Solution: Temperature Distribution')\n",
        "    plt.xlabel('x')\n",
        "    plt.ylabel('y')\n",
        "    plt.show()"
      ],
      "metadata": {
        "trusted": true,
        "id": "KL_fhU_6k-j6"
      },
      "outputs": [],
      "execution_count": null
    },
    {
      "cell_type": "code",
      "source": [
        "model = PINN()"
      ],
      "metadata": {
        "_uuid": "db3482d9-4b51-458d-93fc-9d9addf1570c",
        "_cell_guid": "0ee7c624-5c87-424c-8aa6-66d6c33fe944",
        "trusted": true,
        "jupyter": {
          "outputs_hidden": false
        },
        "id": "Ljxl9ZqVk-j6"
      },
      "outputs": [],
      "execution_count": null
    },
    {
      "cell_type": "code",
      "source": [
        "train_pinn(model)"
      ],
      "metadata": {
        "trusted": true,
        "id": "h7oi7R6Mk-j6"
      },
      "outputs": [],
      "execution_count": null
    },
    {
      "cell_type": "code",
      "source": [
        "plot_solution(model)"
      ],
      "metadata": {
        "trusted": true,
        "id": "_gPTdQoek-j6"
      },
      "outputs": [],
      "execution_count": null
    },
    {
      "cell_type": "code",
      "source": [
        "test_data = pd.read_csv(\"/kaggle/input/ziq-sciml-challenge/test.csv\")\n",
        "x_test = torch.tensor(test_data[\"x\"].values.reshape(-1, 1), dtype=torch.float32)\n",
        "y_test = torch.tensor(test_data[\"y\"].values.reshape(-1, 1), dtype=torch.float32)"
      ],
      "metadata": {
        "_uuid": "7095f760-1bfb-4807-9fc5-1d3a7abeacf6",
        "_cell_guid": "146c4f1e-b1c7-43aa-9269-6fde83097b5c",
        "trusted": true,
        "jupyter": {
          "outputs_hidden": false
        },
        "id": "Be7TWhRFk-j6"
      },
      "outputs": [],
      "execution_count": null
    },
    {
      "cell_type": "code",
      "source": [
        "# Make predictions\n",
        "model.eval()  # Set model to evaluation mode\n",
        "with torch.no_grad():\n",
        "    u_pred = model(x_test, y_test)\n",
        "\n",
        "# Convert predictions to numpy array\n",
        "u_pred_np = u_pred.numpy()"
      ],
      "metadata": {
        "_uuid": "b5503f82-ebdf-496a-91db-4c1cc2cd0cdf",
        "_cell_guid": "32121060-366d-476e-b183-321f5d335373",
        "trusted": true,
        "jupyter": {
          "outputs_hidden": false
        },
        "id": "Q6F3FCOQk-j6"
      },
      "outputs": [],
      "execution_count": null
    },
    {
      "cell_type": "code",
      "source": [
        "# Create a DataFrame with the predictions\n",
        "submission_df = pd.DataFrame({\n",
        "    \"ID\": test_data[\"ID\"],\n",
        "    \"x\": test_data[\"x\"],\n",
        "    \"y\": test_data[\"y\"],\n",
        "    \"u_pred\": u_pred_np.flatten()\n",
        "})\n",
        "\n",
        "# Save the DataFrame to a CSV file\n",
        "submission_df.to_csv(\"/kaggle/working/submission.csv\", index=True)\n",
        "\n",
        "# Print the predictions\n",
        "print(u_pred_np)"
      ],
      "metadata": {
        "_uuid": "5f43b649-f645-4856-97a7-fefd68545642",
        "_cell_guid": "ae2946a9-6444-45b9-b2b3-a17044cb9d05",
        "trusted": true,
        "jupyter": {
          "outputs_hidden": false
        },
        "id": "9bB9tz9Ik-j7"
      },
      "outputs": [],
      "execution_count": null
    }
  ]
}